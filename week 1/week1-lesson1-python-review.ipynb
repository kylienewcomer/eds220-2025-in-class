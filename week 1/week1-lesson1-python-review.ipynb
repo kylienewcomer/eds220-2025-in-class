{
 "cells": [
  {
   "cell_type": "markdown",
   "id": "00be701b-9936-4748-b90c-f02c12d50c3d",
   "metadata": {},
   "source": [
    "# Python Review\n",
    "\n",
    "Goals: \n",
    "- recall basic python vocab\n",
    "- practice markdown\n",
    "\n",
    "## Libraries and packages\n",
    "\n",
    "**library**: a collection of code that we can use to perform specific tasks in our program\n",
    "\n",
    "**NumPy**:\n",
    "- core library for numerical computing in Python\n",
    "- many other libraries use NumPy arrays as building blocks\n",
    "- computations on NumPy are optiomized for speed and memory usage\n",
    "\n",
    "Let's import NumPy with **standard abbreviation**"
   ]
  },
  {
   "cell_type": "code",
   "execution_count": 3,
   "id": "383dc43c-24d7-4a0f-9d16-baee1960c521",
   "metadata": {
    "tags": []
   },
   "outputs": [],
   "source": [
    "import numpy as np"
   ]
  },
  {
   "cell_type": "markdown",
   "id": "d7963902-b1ca-402d-9d18-614b84f312d5",
   "metadata": {},
   "source": [
    "## Varibles\n",
    "\n",
    "**variable** a name we assign to a particular object in Python\n",
    "\n",
    "Example:"
   ]
  },
  {
   "cell_type": "code",
   "execution_count": 4,
   "id": "56397123-a93f-42b5-9cf4-cf7332a3f98a",
   "metadata": {
    "tags": []
   },
   "outputs": [],
   "source": [
    "# Assign a small array to a variable\n",
    "\n",
    "a = np.array([[1,1,2],[3,5,8]])"
   ]
  },
  {
   "cell_type": "code",
   "execution_count": 5,
   "id": "469094b7-6b20-4bdd-af5b-6477bdda3786",
   "metadata": {
    "tags": []
   },
   "outputs": [
    {
     "data": {
      "text/plain": [
       "array([[1, 1, 2],\n",
       "       [3, 5, 8]])"
      ]
     },
     "execution_count": 5,
     "metadata": {},
     "output_type": "execute_result"
    }
   ],
   "source": [
    "# Run the cell with a variable name to show value\n",
    "a"
   ]
  },
  {
   "cell_type": "code",
   "execution_count": 6,
   "id": "8e60143a-71e4-46fc-86f4-d1cc56f598c2",
   "metadata": {
    "tags": []
   },
   "outputs": [
    {
     "name": "stdout",
     "output_type": "stream",
     "text": [
      "[[1 1 2]\n",
      " [3 5 8]]\n"
     ]
    }
   ],
   "source": [
    "# Use `print` function to print the value\n",
    "print(a)"
   ]
  },
  {
   "cell_type": "markdown",
   "id": "3821576e-1529-42c0-9154-b4b1aa99bb6c",
   "metadata": {},
   "source": [
    "## Objects\n",
    "\n",
    "**object** is a bundle of *properties* and *actions* about something specific.\n",
    "\n",
    "Example:\n",
    "\n",
    "Object: data frame\n",
    "\n",
    "Properties: number rows, names of the columns, date created\n",
    "\n",
    "Action: selecting a specific row, adding a new column\n",
    "\n",
    "A variable is the name we give a specific object, and the same object can be referenced by different variables\n",
    "\n",
    "In practice, we can often use variable and object interchangeably."
   ]
  },
  {
   "cell_type": "raw",
   "id": "f17d9fd8-9f7e-4d6e-9820-c5cafa26fa6d",
   "metadata": {},
   "source": [
    "## Types\n",
    "\n",
    "Every object in Python had a **type**. The type tells us what kind of object it is.\n",
    "\n",
    "We can also call the type of an object, the **class** of an object and they both mean wheat kind of object we have."
   ]
  },
  {
   "cell_type": "code",
   "execution_count": 7,
   "id": "6989aab0-f4ed-44ca-bef9-0d13500bd703",
   "metadata": {
    "tags": []
   },
   "outputs": [
    {
     "name": "stdout",
     "output_type": "stream",
     "text": [
      "[[1 1 2]\n",
      " [3 5 8]]\n"
     ]
    },
    {
     "data": {
      "text/plain": [
       "numpy.ndarray"
      ]
     },
     "execution_count": 7,
     "metadata": {},
     "output_type": "execute_result"
    }
   ],
   "source": [
    "print(a)\n",
    "\n",
    "# Check the type/class of a variable/object by using `type` function\n",
    "type(a)"
   ]
  },
  {
   "cell_type": "code",
   "execution_count": 8,
   "id": "db41f94f-d8ce-46f9-ac0c-d93b1b731da7",
   "metadata": {
    "tags": []
   },
   "outputs": [
    {
     "name": "stdout",
     "output_type": "stream",
     "text": [
      "1\n"
     ]
    },
    {
     "data": {
      "text/plain": [
       "numpy.int64"
      ]
     },
     "execution_count": 8,
     "metadata": {},
     "output_type": "execute_result"
    }
   ],
   "source": [
    "print(a[0,0])\n",
    "\n",
    "# Check the type on an entry on the array by indexing\n",
    "type(a[0,0])"
   ]
  },
  {
   "cell_type": "markdown",
   "id": "3fe65929-6744-4099-a02d-d8449b0d23a2",
   "metadata": {},
   "source": [
    "Notice that `type(a[0,0])` is `numpy.int64` and not just the standard Python integer type. This is telling us that 1 is an integer stored as a 64-bit number"
   ]
  },
  {
   "cell_type": "code",
   "execution_count": 9,
   "id": "6cfc8f0c-a90c-4ed7-8262-3fa056ddae81",
   "metadata": {
    "tags": []
   },
   "outputs": [
    {
     "data": {
      "text/plain": [
       "5"
      ]
     },
     "execution_count": 9,
     "metadata": {},
     "output_type": "execute_result"
    }
   ],
   "source": [
    "a[1,1]"
   ]
  },
  {
   "cell_type": "markdown",
   "id": "b548ae4b-972e-41d9-92f4-8b570fb01cf5",
   "metadata": {},
   "source": [
    "## Functions \n",
    "`print` was our first example of a Python **function**\n",
    "\n",
    "Functions take in a set of **arguments** and those arguments create an **output**.\n",
    "\n",
    "argument = parameter\n",
    "\n",
    "We can ask information about a function by executing `function`"
   ]
  },
  {
   "cell_type": "code",
   "execution_count": 10,
   "id": "edf6c990-b019-43d6-9fb2-ab376f852f9c",
   "metadata": {
    "tags": []
   },
   "outputs": [
    {
     "data": {
      "text/plain": [
       "\u001b[0;31mSignature:\u001b[0m \u001b[0mprint\u001b[0m\u001b[0;34m(\u001b[0m\u001b[0;34m*\u001b[0m\u001b[0margs\u001b[0m\u001b[0;34m,\u001b[0m \u001b[0msep\u001b[0m\u001b[0;34m=\u001b[0m\u001b[0;34m' '\u001b[0m\u001b[0;34m,\u001b[0m \u001b[0mend\u001b[0m\u001b[0;34m=\u001b[0m\u001b[0;34m'\\n'\u001b[0m\u001b[0;34m,\u001b[0m \u001b[0mfile\u001b[0m\u001b[0;34m=\u001b[0m\u001b[0;32mNone\u001b[0m\u001b[0;34m,\u001b[0m \u001b[0mflush\u001b[0m\u001b[0;34m=\u001b[0m\u001b[0;32mFalse\u001b[0m\u001b[0;34m)\u001b[0m\u001b[0;34m\u001b[0m\u001b[0;34m\u001b[0m\u001b[0m\n",
       "\u001b[0;31mDocstring:\u001b[0m\n",
       "Prints the values to a stream, or to sys.stdout by default.\n",
       "\n",
       "sep\n",
       "  string inserted between values, default a space.\n",
       "end\n",
       "  string appended after the last value, default a newline.\n",
       "file\n",
       "  a file-like object (stream); defaults to the current sys.stdout.\n",
       "flush\n",
       "  whether to forcibly flush the stream.\n",
       "\u001b[0;31mType:\u001b[0m      builtin_function_or_method"
      ]
     },
     "metadata": {},
     "output_type": "display_data"
    }
   ],
   "source": [
    "?print"
   ]
  },
  {
   "cell_type": "markdown",
   "id": "508b8fa9-3d4b-4050-8319-1979a72041c5",
   "metadata": {},
   "source": [
    "This information is a **docstring**."
   ]
  },
  {
   "cell_type": "markdown",
   "id": "9b2194a0-fe10-4bba-a2ec-f2ba25501e93",
   "metadata": {},
   "source": [
    "## Attributes & methods\n",
    "\n",
    "An object in Python has attributes and methods\n",
    "\n",
    "- **attribute**: a property of an object, some piece of information about it\n",
    "- **method**: a procedure associated with the object, an action where the main ingredient is the object\n",
    "\n",
    "### Check-in\n",
    "\n",
    "Fish attributes:\n",
    "\n",
    "- length, color, species\n",
    "- die(), bite(), swim()\n",
    "\n",
    "**Example** \n",
    "Attributes for `numpy.arrays`\n",
    "\n",
    "We can access a variable's attributes and methods by adding a period `.` at the end of the variable's name.\n",
    "\n",
    "`variable.method()` or `variable.attribute`\n"
   ]
  },
  {
   "cell_type": "code",
   "execution_count": 11,
   "id": "8dbe7fde-a9ba-4829-be29-48573b89ab43",
   "metadata": {
    "tags": []
   },
   "outputs": [
    {
     "data": {
      "text/plain": [
       "(2, 3)"
      ]
     },
     "execution_count": 11,
     "metadata": {},
     "output_type": "execute_result"
    }
   ],
   "source": [
    "a.shape"
   ]
  },
  {
   "cell_type": "code",
   "execution_count": 12,
   "id": "b52ce5d2-1fe7-4c30-8079-eb637b9e751e",
   "metadata": {
    "tags": []
   },
   "outputs": [
    {
     "data": {
      "text/plain": [
       "tuple"
      ]
     },
     "execution_count": 12,
     "metadata": {},
     "output_type": "execute_result"
    }
   ],
   "source": [
    "type(a.shape)"
   ]
  },
  {
   "cell_type": "code",
   "execution_count": 13,
   "id": "f89bb416-5cf3-4bee-837d-8425b483cd06",
   "metadata": {
    "tags": []
   },
   "outputs": [
    {
     "data": {
      "text/plain": [
       "array([[1, 1, 2],\n",
       "       [3, 5, 8]])"
      ]
     },
     "execution_count": 13,
     "metadata": {},
     "output_type": "execute_result"
    }
   ],
   "source": [
    "a"
   ]
  },
  {
   "cell_type": "code",
   "execution_count": 14,
   "id": "f9d07262-0acf-4d74-99a6-87d84080efd4",
   "metadata": {
    "tags": []
   },
   "outputs": [
    {
     "data": {
      "text/plain": [
       "array([1, 1, 2])"
      ]
     },
     "execution_count": 14,
     "metadata": {},
     "output_type": "execute_result"
    }
   ],
   "source": [
    "# Methods examples\n",
    "# min() returns the minimum value along a specifies axis\n",
    "a.min(axis=0)"
   ]
  },
  {
   "cell_type": "markdown",
   "id": "13c21340-4c04-4cca-a874-31099d0fd140",
   "metadata": {
    "tags": []
   },
   "source": [
    "## Check-In\n",
    "We can also call the `min` method without any parameters"
   ]
  },
  {
   "cell_type": "code",
   "execution_count": 16,
   "id": "d01b8fb3-425e-4b05-9354-1a7df7290952",
   "metadata": {
    "tags": []
   },
   "outputs": [
    {
     "data": {
      "text/plain": [
       "1"
      ]
     },
     "execution_count": 16,
     "metadata": {},
     "output_type": "execute_result"
    }
   ],
   "source": [
    "a.min()"
   ]
  },
  {
   "cell_type": "markdown",
   "id": "9462f6d0-556d-466f-8937-2fd746541325",
   "metadata": {},
   "source": [
    "Remember: methods are functions associated with an object"
   ]
  },
  {
   "cell_type": "code",
   "execution_count": 17,
   "id": "aab3dd52-73c5-4f1b-88ce-b42a2fc95aaa",
   "metadata": {
    "tags": []
   },
   "outputs": [
    {
     "data": {
      "text/plain": [
       "builtin_function_or_method"
      ]
     },
     "execution_count": 17,
     "metadata": {},
     "output_type": "execute_result"
    }
   ],
   "source": [
    "type(a.min)"
   ]
  },
  {
   "cell_type": "markdown",
   "id": "950ddd54-5c1c-4fe0-b59a-91ed48a471ce",
   "metadata": {},
   "source": [
    "## Exercise\n",
    "\n",
    "1. Read the `print` function help. What is the **type** of the argument `sep`? IS this an optional or non-optional argument? Why?\n",
    "\n",
    "2. Create two new variables, one with the integer value 77 and another one with the string 99.\n",
    "\n",
    "3. Use your variables to print `77%99%77` by changing the value of one of the optional arguments in `print`"
   ]
  },
  {
   "cell_type": "code",
   "execution_count": 18,
   "id": "61c16925-1a66-4c1b-91ba-637d170bf75a",
   "metadata": {
    "tags": []
   },
   "outputs": [
    {
     "data": {
      "text/plain": [
       "\u001b[0;31mSignature:\u001b[0m \u001b[0mprint\u001b[0m\u001b[0;34m(\u001b[0m\u001b[0;34m*\u001b[0m\u001b[0margs\u001b[0m\u001b[0;34m,\u001b[0m \u001b[0msep\u001b[0m\u001b[0;34m=\u001b[0m\u001b[0;34m' '\u001b[0m\u001b[0;34m,\u001b[0m \u001b[0mend\u001b[0m\u001b[0;34m=\u001b[0m\u001b[0;34m'\\n'\u001b[0m\u001b[0;34m,\u001b[0m \u001b[0mfile\u001b[0m\u001b[0;34m=\u001b[0m\u001b[0;32mNone\u001b[0m\u001b[0;34m,\u001b[0m \u001b[0mflush\u001b[0m\u001b[0;34m=\u001b[0m\u001b[0;32mFalse\u001b[0m\u001b[0;34m)\u001b[0m\u001b[0;34m\u001b[0m\u001b[0;34m\u001b[0m\u001b[0m\n",
       "\u001b[0;31mDocstring:\u001b[0m\n",
       "Prints the values to a stream, or to sys.stdout by default.\n",
       "\n",
       "sep\n",
       "  string inserted between values, default a space.\n",
       "end\n",
       "  string appended after the last value, default a newline.\n",
       "file\n",
       "  a file-like object (stream); defaults to the current sys.stdout.\n",
       "flush\n",
       "  whether to forcibly flush the stream.\n",
       "\u001b[0;31mType:\u001b[0m      builtin_function_or_method"
      ]
     },
     "metadata": {},
     "output_type": "display_data"
    }
   ],
   "source": [
    "print?"
   ]
  },
  {
   "cell_type": "code",
   "execution_count": 22,
   "id": "cf129ba3-e436-4577-894e-ad89cf369741",
   "metadata": {
    "tags": []
   },
   "outputs": [],
   "source": [
    "b = 77\n",
    "c = '99'"
   ]
  },
  {
   "cell_type": "code",
   "execution_count": 23,
   "id": "536355ba-e630-4b75-bf88-6705c5148b85",
   "metadata": {
    "tags": []
   },
   "outputs": [
    {
     "name": "stdout",
     "output_type": "stream",
     "text": [
      "77 99 77\n"
     ]
    }
   ],
   "source": [
    "print(b,c,b)"
   ]
  },
  {
   "cell_type": "code",
   "execution_count": 24,
   "id": "b5b0150a-e025-498e-9063-ed633a7b85dd",
   "metadata": {
    "tags": []
   },
   "outputs": [
    {
     "name": "stdout",
     "output_type": "stream",
     "text": [
      "77%99%77\n"
     ]
    }
   ],
   "source": [
    "print(b,c,b, sep = '%')"
   ]
  },
  {
   "cell_type": "code",
   "execution_count": null,
   "id": "eb4761cd-cb66-47f3-b3c1-0a11c6a49f01",
   "metadata": {},
   "outputs": [],
   "source": []
  }
 ],
 "metadata": {
  "kernelspec": {
   "display_name": "EDS220",
   "language": "python",
   "name": "eds220-env"
  },
  "language_info": {
   "codemirror_mode": {
    "name": "ipython",
    "version": 3
   },
   "file_extension": ".py",
   "mimetype": "text/x-python",
   "name": "python",
   "nbconvert_exporter": "python",
   "pygments_lexer": "ipython3",
   "version": "3.11.4"
  }
 },
 "nbformat": 4,
 "nbformat_minor": 5
}
