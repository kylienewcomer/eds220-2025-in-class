{
 "cells": [
  {
   "cell_type": "code",
   "execution_count": 12,
   "id": "0f420767-6d13-4331-a1af-854c7279edf1",
   "metadata": {
    "tags": []
   },
   "outputs": [],
   "source": [
    "import os\n",
    "\n",
    "import pandas as pd\n",
    "from pandas.api.types import is_string_dtype, is_numeric_dtype\n",
    "import geopandas as gpd\n",
    "\n",
    "# Display all columns when looking at dataframes\n",
    "pd.set_option(\"display.max.columns\", None)"
   ]
  },
  {
   "cell_type": "markdown",
   "id": "80e54f27",
   "metadata": {},
   "source": [
    "## Streamline your code\n",
    "We will: \n",
    "- learn how to extract geospatial data from a CSV to create a geopandas.GeoDataFrame\n",
    "- introduce more customizations for maps and matplotlib figures \n",
    "- go over strategies to streamline our code."
   ]
  },
  {
   "cell_type": "code",
   "execution_count": 15,
   "id": "b03ba9de-309f-4528-8e1d-881e7a29caaa",
   "metadata": {
    "tags": []
   },
   "outputs": [
    {
     "data": {
      "text/html": [
       "<div>\n",
       "<style scoped>\n",
       "    .dataframe tbody tr th:only-of-type {\n",
       "        vertical-align: middle;\n",
       "    }\n",
       "\n",
       "    .dataframe tbody tr th {\n",
       "        vertical-align: top;\n",
       "    }\n",
       "\n",
       "    .dataframe thead th {\n",
       "        text-align: right;\n",
       "    }\n",
       "</style>\n",
       "<table border=\"1\" class=\"dataframe\">\n",
       "  <thead>\n",
       "    <tr style=\"text-align: right;\">\n",
       "      <th></th>\n",
       "      <th>objectid</th>\n",
       "      <th>plant_code</th>\n",
       "      <th>plant_name</th>\n",
       "      <th>utility_id</th>\n",
       "      <th>utility_name</th>\n",
       "      <th>sector_name</th>\n",
       "      <th>street_address</th>\n",
       "      <th>city</th>\n",
       "      <th>county</th>\n",
       "      <th>state</th>\n",
       "      <th>zip</th>\n",
       "      <th>primsource</th>\n",
       "      <th>source_desc</th>\n",
       "      <th>tech_desc</th>\n",
       "      <th>install_mw</th>\n",
       "      <th>total_mw</th>\n",
       "      <th>bat_mw</th>\n",
       "      <th>bio_mw</th>\n",
       "      <th>coal_mw</th>\n",
       "      <th>geo_mw</th>\n",
       "      <th>hydro_mw</th>\n",
       "      <th>hydrops_mw</th>\n",
       "      <th>ng_mw</th>\n",
       "      <th>nuclear_mw</th>\n",
       "      <th>crude_mw</th>\n",
       "      <th>solar_mw</th>\n",
       "      <th>wind_mw</th>\n",
       "      <th>other_mw</th>\n",
       "      <th>source</th>\n",
       "      <th>period</th>\n",
       "      <th>longitude</th>\n",
       "      <th>latitude</th>\n",
       "    </tr>\n",
       "  </thead>\n",
       "  <tbody>\n",
       "    <tr>\n",
       "      <th>0</th>\n",
       "      <td>11570</td>\n",
       "      <td>1</td>\n",
       "      <td>Sand Point</td>\n",
       "      <td>63560</td>\n",
       "      <td>TDX Sand Point Generating, LLC</td>\n",
       "      <td>Electric Utility</td>\n",
       "      <td>100 Power Plant Way</td>\n",
       "      <td>Sand Point</td>\n",
       "      <td>Aleutians East</td>\n",
       "      <td>Alaska</td>\n",
       "      <td>99661.0</td>\n",
       "      <td>petroleum</td>\n",
       "      <td>Petroleum = 1.3 MW, Wind = 0.4 MW</td>\n",
       "      <td>Petroleum Liquids; Onshore Wind Turbine;</td>\n",
       "      <td>3.7</td>\n",
       "      <td>1.7</td>\n",
       "      <td>NaN</td>\n",
       "      <td>NaN</td>\n",
       "      <td>NaN</td>\n",
       "      <td>NaN</td>\n",
       "      <td>NaN</td>\n",
       "      <td>NaN</td>\n",
       "      <td>NaN</td>\n",
       "      <td>NaN</td>\n",
       "      <td>1.3</td>\n",
       "      <td>NaN</td>\n",
       "      <td>0.4</td>\n",
       "      <td>NaN</td>\n",
       "      <td>EIA-860, EIA-860M and EIA-923</td>\n",
       "      <td>202305.0</td>\n",
       "      <td>-160.497222</td>\n",
       "      <td>55.339722</td>\n",
       "    </tr>\n",
       "    <tr>\n",
       "      <th>1</th>\n",
       "      <td>11571</td>\n",
       "      <td>2</td>\n",
       "      <td>Bankhead Dam</td>\n",
       "      <td>195</td>\n",
       "      <td>Alabama Power Co</td>\n",
       "      <td>Electric Utility</td>\n",
       "      <td>19001 Lock 17 Road</td>\n",
       "      <td>Northport</td>\n",
       "      <td>Tuscaloosa</td>\n",
       "      <td>Alabama</td>\n",
       "      <td>35476.0</td>\n",
       "      <td>hydroelectric</td>\n",
       "      <td>Hydroelectric = 53 MW</td>\n",
       "      <td>Conventional Hydroelectric</td>\n",
       "      <td>53.9</td>\n",
       "      <td>53.0</td>\n",
       "      <td>NaN</td>\n",
       "      <td>NaN</td>\n",
       "      <td>NaN</td>\n",
       "      <td>NaN</td>\n",
       "      <td>53.0</td>\n",
       "      <td>NaN</td>\n",
       "      <td>NaN</td>\n",
       "      <td>NaN</td>\n",
       "      <td>NaN</td>\n",
       "      <td>NaN</td>\n",
       "      <td>NaN</td>\n",
       "      <td>NaN</td>\n",
       "      <td>EIA-860, EIA-860M and EIA-923</td>\n",
       "      <td>202305.0</td>\n",
       "      <td>-87.356823</td>\n",
       "      <td>33.458665</td>\n",
       "    </tr>\n",
       "    <tr>\n",
       "      <th>2</th>\n",
       "      <td>11572</td>\n",
       "      <td>3</td>\n",
       "      <td>Barry</td>\n",
       "      <td>195</td>\n",
       "      <td>Alabama Power Co</td>\n",
       "      <td>Electric Utility</td>\n",
       "      <td>North Highway 43</td>\n",
       "      <td>Bucks</td>\n",
       "      <td>Mobile</td>\n",
       "      <td>Alabama</td>\n",
       "      <td>36512.0</td>\n",
       "      <td>natural gas</td>\n",
       "      <td>Coal = 1118.5 MW, Natural Gas = 1296.2 MW</td>\n",
       "      <td>Conventional Steam Coal; Natural Gas Fired Com...</td>\n",
       "      <td>2569.5</td>\n",
       "      <td>2414.7</td>\n",
       "      <td>NaN</td>\n",
       "      <td>NaN</td>\n",
       "      <td>1118.5</td>\n",
       "      <td>NaN</td>\n",
       "      <td>NaN</td>\n",
       "      <td>NaN</td>\n",
       "      <td>1296.2</td>\n",
       "      <td>NaN</td>\n",
       "      <td>NaN</td>\n",
       "      <td>NaN</td>\n",
       "      <td>NaN</td>\n",
       "      <td>NaN</td>\n",
       "      <td>EIA-860, EIA-860M and EIA-923</td>\n",
       "      <td>202305.0</td>\n",
       "      <td>-88.010300</td>\n",
       "      <td>31.006900</td>\n",
       "    </tr>\n",
       "  </tbody>\n",
       "</table>\n",
       "</div>"
      ],
      "text/plain": [
       "  objectid plant_code    plant_name utility_id  \\\n",
       "0    11570          1    Sand Point      63560   \n",
       "1    11571          2  Bankhead Dam        195   \n",
       "2    11572          3         Barry        195   \n",
       "\n",
       "                     utility_name       sector_name       street_address  \\\n",
       "0  TDX Sand Point Generating, LLC  Electric Utility  100 Power Plant Way   \n",
       "1                Alabama Power Co  Electric Utility   19001 Lock 17 Road   \n",
       "2                Alabama Power Co  Electric Utility     North Highway 43   \n",
       "\n",
       "         city          county    state      zip     primsource  \\\n",
       "0  Sand Point  Aleutians East   Alaska  99661.0      petroleum   \n",
       "1   Northport      Tuscaloosa  Alabama  35476.0  hydroelectric   \n",
       "2       Bucks          Mobile  Alabama  36512.0    natural gas   \n",
       "\n",
       "                                 source_desc  \\\n",
       "0          Petroleum = 1.3 MW, Wind = 0.4 MW   \n",
       "1                      Hydroelectric = 53 MW   \n",
       "2  Coal = 1118.5 MW, Natural Gas = 1296.2 MW   \n",
       "\n",
       "                                           tech_desc  install_mw  total_mw  \\\n",
       "0           Petroleum Liquids; Onshore Wind Turbine;         3.7       1.7   \n",
       "1                         Conventional Hydroelectric        53.9      53.0   \n",
       "2  Conventional Steam Coal; Natural Gas Fired Com...      2569.5    2414.7   \n",
       "\n",
       "   bat_mw  bio_mw  coal_mw  geo_mw  hydro_mw  hydrops_mw   ng_mw nuclear_mw  \\\n",
       "0     NaN     NaN      NaN     NaN       NaN         NaN     NaN        NaN   \n",
       "1     NaN     NaN      NaN     NaN      53.0         NaN     NaN        NaN   \n",
       "2     NaN     NaN   1118.5     NaN       NaN         NaN  1296.2        NaN   \n",
       "\n",
       "   crude_mw  solar_mw  wind_mw  other_mw                         source  \\\n",
       "0       1.3       NaN      0.4       NaN  EIA-860, EIA-860M and EIA-923   \n",
       "1       NaN       NaN      NaN       NaN  EIA-860, EIA-860M and EIA-923   \n",
       "2       NaN       NaN      NaN       NaN  EIA-860, EIA-860M and EIA-923   \n",
       "\n",
       "     period   longitude   latitude  \n",
       "0  202305.0 -160.497222  55.339722  \n",
       "1  202305.0  -87.356823  33.458665  \n",
       "2  202305.0  -88.010300  31.006900  "
      ]
     },
     "execution_count": 15,
     "metadata": {},
     "output_type": "execute_result"
    }
   ],
   "source": [
    "# Import power plants data\n",
    "URL = 'https://raw.githubusercontent.com/carmengg/eds-220-book/refs/heads/main/data/power_plants_epsg4269.csv'\n",
    "power_plants = pd.read_csv(URL)\n",
    "# Simpify column names\n",
    "power_plants.columns = power_plants.columns.str.lower()\n",
    "\n",
    "# Drop first column\n",
    "power_plants = power_plants.drop(columns='unnamed: 0')\n",
    "power_plants.head(3)"
   ]
  },
  {
   "cell_type": "code",
   "execution_count": 16,
   "id": "c1c3db96-d9c4-4b4b-a54a-6c16adc74464",
   "metadata": {
    "tags": []
   },
   "outputs": [
    {
     "data": {
      "text/html": [
       "<div>\n",
       "<style scoped>\n",
       "    .dataframe tbody tr th:only-of-type {\n",
       "        vertical-align: middle;\n",
       "    }\n",
       "\n",
       "    .dataframe tbody tr th {\n",
       "        vertical-align: top;\n",
       "    }\n",
       "\n",
       "    .dataframe thead th {\n",
       "        text-align: right;\n",
       "    }\n",
       "</style>\n",
       "<table border=\"1\" class=\"dataframe\">\n",
       "  <thead>\n",
       "    <tr style=\"text-align: right;\">\n",
       "      <th></th>\n",
       "      <th>region</th>\n",
       "      <th>division</th>\n",
       "      <th>statefp</th>\n",
       "      <th>statens</th>\n",
       "      <th>geoid</th>\n",
       "      <th>stusps</th>\n",
       "      <th>name</th>\n",
       "      <th>lsad</th>\n",
       "      <th>mtfcc</th>\n",
       "      <th>funcstat</th>\n",
       "      <th>aland</th>\n",
       "      <th>awater</th>\n",
       "      <th>intptlat</th>\n",
       "      <th>intptlon</th>\n",
       "      <th>geometry</th>\n",
       "    </tr>\n",
       "  </thead>\n",
       "  <tbody>\n",
       "    <tr>\n",
       "      <th>0</th>\n",
       "      <td>3</td>\n",
       "      <td>5</td>\n",
       "      <td>54</td>\n",
       "      <td>01779805</td>\n",
       "      <td>54</td>\n",
       "      <td>WV</td>\n",
       "      <td>West Virginia</td>\n",
       "      <td>00</td>\n",
       "      <td>G4000</td>\n",
       "      <td>A</td>\n",
       "      <td>62266456923</td>\n",
       "      <td>489045863</td>\n",
       "      <td>+38.6472854</td>\n",
       "      <td>-080.6183274</td>\n",
       "      <td>POLYGON ((-77.75438 39.33346, -77.75422 39.333...</td>\n",
       "    </tr>\n",
       "    <tr>\n",
       "      <th>1</th>\n",
       "      <td>3</td>\n",
       "      <td>5</td>\n",
       "      <td>12</td>\n",
       "      <td>00294478</td>\n",
       "      <td>12</td>\n",
       "      <td>FL</td>\n",
       "      <td>Florida</td>\n",
       "      <td>00</td>\n",
       "      <td>G4000</td>\n",
       "      <td>A</td>\n",
       "      <td>138962819934</td>\n",
       "      <td>45971472526</td>\n",
       "      <td>+28.3989775</td>\n",
       "      <td>-082.5143005</td>\n",
       "      <td>MULTIPOLYGON (((-83.10874 24.62949, -83.10711 ...</td>\n",
       "    </tr>\n",
       "    <tr>\n",
       "      <th>2</th>\n",
       "      <td>2</td>\n",
       "      <td>3</td>\n",
       "      <td>17</td>\n",
       "      <td>01779784</td>\n",
       "      <td>17</td>\n",
       "      <td>IL</td>\n",
       "      <td>Illinois</td>\n",
       "      <td>00</td>\n",
       "      <td>G4000</td>\n",
       "      <td>A</td>\n",
       "      <td>143778515726</td>\n",
       "      <td>6216539665</td>\n",
       "      <td>+40.1028754</td>\n",
       "      <td>-089.1526108</td>\n",
       "      <td>POLYGON ((-87.89243 38.28285, -87.89334 38.282...</td>\n",
       "    </tr>\n",
       "  </tbody>\n",
       "</table>\n",
       "</div>"
      ],
      "text/plain": [
       "  region division statefp   statens geoid stusps           name lsad  mtfcc  \\\n",
       "0      3        5      54  01779805    54     WV  West Virginia   00  G4000   \n",
       "1      3        5      12  00294478    12     FL        Florida   00  G4000   \n",
       "2      2        3      17  01779784    17     IL       Illinois   00  G4000   \n",
       "\n",
       "  funcstat         aland       awater     intptlat      intptlon  \\\n",
       "0        A   62266456923    489045863  +38.6472854  -080.6183274   \n",
       "1        A  138962819934  45971472526  +28.3989775  -082.5143005   \n",
       "2        A  143778515726   6216539665  +40.1028754  -089.1526108   \n",
       "\n",
       "                                            geometry  \n",
       "0  POLYGON ((-77.75438 39.33346, -77.75422 39.333...  \n",
       "1  MULTIPOLYGON (((-83.10874 24.62949, -83.10711 ...  \n",
       "2  POLYGON ((-87.89243 38.28285, -87.89334 38.282...  "
      ]
     },
     "execution_count": 16,
     "metadata": {},
     "output_type": "execute_result"
    }
   ],
   "source": [
    "# Import states data\n",
    "fp = os.path.join('data','tl_2022_us_state','tl_2022_us_state.shp')\n",
    "states = gpd.read_file(fp)\n",
    "\n",
    "states.columns = states.columns.str.lower()\n",
    "states.head(3)"
   ]
  },
  {
   "cell_type": "markdown",
   "id": "46c3e8f0",
   "metadata": {},
   "source": []
  },
  {
   "cell_type": "markdown",
   "id": "5a871f86-e0a2-4fa7-aa2c-a3406f317118",
   "metadata": {},
   "source": [
    "## CSV to `geopandas.GeoDataFrame`\n",
    "The power plants file is a CSV. Unlike shapefiles or other geospatial file formats, geopandas doesn’t have a way to extract a geometry column from a CSV file, so we will need to create this geometry manually.\n",
    "\n",
    "To do so we will use the longitude and latitude columns in the CSV, these indicate the location of the power plants in the NAD83 CRS (EPSG:4269). We can use this information to create a new geopandas.GeoDataFrame from the pandas.DataFrame using the geopandas function points_from_xy():"
   ]
  },
  {
   "cell_type": "code",
   "execution_count": 21,
   "id": "9769baf4",
   "metadata": {},
   "outputs": [],
   "source": [
    "# Create points from latitude and longitude\n",
    "points = gpd.points_from_xy(power_plants.longitude, \n",
    "                            power_plants.latitude)\n",
    "\n",
    "# Create geodataframe\n",
    "power_plants = gpd.GeoDataFrame(power_plants,    # Data\n",
    "                                geometry=points, # Specify geometry column\n",
    "                                crs='EPSG:4269'  # Specify CRS\n",
    "                                )"
   ]
  },
  {
   "cell_type": "code",
   "execution_count": 22,
   "id": "ef9320f0",
   "metadata": {},
   "outputs": [
    {
     "data": {
      "text/plain": [
       "0        POINT (-160.49722 55.33972)\n",
       "1         POINT (-87.35682 33.45867)\n",
       "2         POINT (-88.01030 31.00690)\n",
       "3         POINT (-86.28306 32.58389)\n",
       "4        POINT (-106.37500 31.75690)\n",
       "                    ...             \n",
       "12004     POINT (-82.37595 35.38014)\n",
       "12005     POINT (-79.36770 36.00932)\n",
       "12006     POINT (-79.73631 35.27343)\n",
       "12007     POINT (-73.91048 42.87657)\n",
       "12008     POINT (-77.27590 41.83800)\n",
       "Name: geometry, Length: 12009, dtype: geometry"
      ]
     },
     "execution_count": 22,
     "metadata": {},
     "output_type": "execute_result"
    }
   ],
   "source": [
    "power_plants['geometry']"
   ]
  },
  {
   "cell_type": "code",
   "execution_count": 24,
   "id": "7aecb914",
   "metadata": {},
   "outputs": [
    {
     "data": {
      "text/plain": [
       "<Axes: >"
      ]
     },
     "execution_count": 24,
     "metadata": {},
     "output_type": "execute_result"
    },
    {
     "data": {
      "image/png": "[encoded data removed]",
      "text/plain": [
       "<Figure size 640x480 with 1 Axes>"
      ]
     },
     "metadata": {},
     "output_type": "display_data"
    }
   ],
   "source": [
    "power_plants.plot(color = \"green\")  "
   ]
  },
  {
   "cell_type": "markdown",
   "id": "ab86ad4b",
   "metadata": {},
   "source": [
    "## f-strings\n",
    "So far, we have printed variables using string concatenation inside the print() function. This means that we write commas between every string and variable we want to print, and then the print() function concatenates these into a single string. \n",
    "\n",
    "For example:"
   ]
  },
  {
   "cell_type": "code",
   "execution_count": 26,
   "id": "d830c626",
   "metadata": {},
   "outputs": [
    {
     "name": "stdout",
     "output_type": "stream",
     "text": [
      "CRS EPSG:4269\n"
     ]
    }
   ],
   "source": [
    "print(\"CRS\", power_plants.crs)"
   ]
  },
  {
   "cell_type": "markdown",
   "id": "f7e2641a",
   "metadata": {},
   "source": [
    "f-string which stands for “formatted string”. The simplest syntax for an f-string is:\n",
    "\n",
    "```\n",
    "f\" some text {replace}\"\n",
    "```\n",
    "`replace` can be a variable, an expression, or a function or method call. For example:"
   ]
  },
  {
   "cell_type": "code",
   "execution_count": 28,
   "id": "387e4a97",
   "metadata": {},
   "outputs": [
    {
     "name": "stdout",
     "output_type": "stream",
     "text": [
      "ellipsoid: GRS 1980\n",
      "datum: North American Datum 1983\n"
     ]
    }
   ],
   "source": [
    "# Explore CRs\n",
    "print(f'ellipsoid: {power_plants.crs.ellipsoid}')\n",
    "print(f'datum: {power_plants.crs.datum}')"
   ]
  },
  {
   "cell_type": "code",
   "execution_count": 32,
   "id": "ff4f822d",
   "metadata": {},
   "outputs": [
    {
     "name": "stdout",
     "output_type": "stream",
     "text": [
      "Is CRS geographic?        True\n",
      "Is the CRS projected?     False\n"
     ]
    }
   ],
   "source": [
    "# Set the label width to 25 characters, aligning the answers\n",
    "print(f\"{'Is CRS geographic?': <25} {power_plants.crs.is_geographic}\")\n",
    "print(f\"{'Is the CRS projected?':<25} {power_plants.crs.is_projected}\")"
   ]
  },
  {
   "cell_type": "markdown",
   "id": "10354a42",
   "metadata": {},
   "source": [
    "## Explore TIGER shapefile"
   ]
  },
  {
   "cell_type": "code",
   "execution_count": 33,
   "id": "0145cd15",
   "metadata": {},
   "outputs": [
    {
     "data": {
      "text/html": [
       "<div>\n",
       "<style scoped>\n",
       "    .dataframe tbody tr th:only-of-type {\n",
       "        vertical-align: middle;\n",
       "    }\n",
       "\n",
       "    .dataframe tbody tr th {\n",
       "        vertical-align: top;\n",
       "    }\n",
       "\n",
       "    .dataframe thead th {\n",
       "        text-align: right;\n",
       "    }\n",
       "</style>\n",
       "<table border=\"1\" class=\"dataframe\">\n",
       "  <thead>\n",
       "    <tr style=\"text-align: right;\">\n",
       "      <th></th>\n",
       "      <th>region</th>\n",
       "      <th>division</th>\n",
       "      <th>statefp</th>\n",
       "      <th>statens</th>\n",
       "      <th>geoid</th>\n",
       "      <th>stusps</th>\n",
       "      <th>name</th>\n",
       "      <th>lsad</th>\n",
       "      <th>mtfcc</th>\n",
       "      <th>funcstat</th>\n",
       "      <th>aland</th>\n",
       "      <th>awater</th>\n",
       "      <th>intptlat</th>\n",
       "      <th>intptlon</th>\n",
       "      <th>geometry</th>\n",
       "    </tr>\n",
       "  </thead>\n",
       "  <tbody>\n",
       "    <tr>\n",
       "      <th>51</th>\n",
       "      <td>1</td>\n",
       "      <td>1</td>\n",
       "      <td>25</td>\n",
       "      <td>00606926</td>\n",
       "      <td>25</td>\n",
       "      <td>MA</td>\n",
       "      <td>Massachusetts</td>\n",
       "      <td>00</td>\n",
       "      <td>G4000</td>\n",
       "      <td>A</td>\n",
       "      <td>20204341720</td>\n",
       "      <td>7130708927</td>\n",
       "      <td>+42.1565196</td>\n",
       "      <td>-071.4895915</td>\n",
       "      <td>POLYGON ((-71.25515 42.73655, -71.25510 42.736...</td>\n",
       "    </tr>\n",
       "    <tr>\n",
       "      <th>52</th>\n",
       "      <td>3</td>\n",
       "      <td>5</td>\n",
       "      <td>51</td>\n",
       "      <td>01779803</td>\n",
       "      <td>51</td>\n",
       "      <td>VA</td>\n",
       "      <td>Virginia</td>\n",
       "      <td>00</td>\n",
       "      <td>G4000</td>\n",
       "      <td>A</td>\n",
       "      <td>102258178227</td>\n",
       "      <td>8528072639</td>\n",
       "      <td>+37.5222512</td>\n",
       "      <td>-078.6681938</td>\n",
       "      <td>POLYGON ((-76.49150 36.55065, -76.49388 36.550...</td>\n",
       "    </tr>\n",
       "    <tr>\n",
       "      <th>53</th>\n",
       "      <td>3</td>\n",
       "      <td>5</td>\n",
       "      <td>11</td>\n",
       "      <td>01702382</td>\n",
       "      <td>11</td>\n",
       "      <td>DC</td>\n",
       "      <td>District of Columbia</td>\n",
       "      <td>00</td>\n",
       "      <td>G4000</td>\n",
       "      <td>A</td>\n",
       "      <td>158316184</td>\n",
       "      <td>18709787</td>\n",
       "      <td>+38.9042474</td>\n",
       "      <td>-077.0165167</td>\n",
       "      <td>POLYGON ((-77.11975 38.93435, -77.11886 38.935...</td>\n",
       "    </tr>\n",
       "    <tr>\n",
       "      <th>54</th>\n",
       "      <td>2</td>\n",
       "      <td>4</td>\n",
       "      <td>19</td>\n",
       "      <td>01779785</td>\n",
       "      <td>19</td>\n",
       "      <td>IA</td>\n",
       "      <td>Iowa</td>\n",
       "      <td>00</td>\n",
       "      <td>G4000</td>\n",
       "      <td>A</td>\n",
       "      <td>144659596400</td>\n",
       "      <td>1086089872</td>\n",
       "      <td>+42.0700243</td>\n",
       "      <td>-093.4933473</td>\n",
       "      <td>POLYGON ((-95.86095 43.50004, -95.85979 43.500...</td>\n",
       "    </tr>\n",
       "    <tr>\n",
       "      <th>55</th>\n",
       "      <td>4</td>\n",
       "      <td>8</td>\n",
       "      <td>04</td>\n",
       "      <td>01779777</td>\n",
       "      <td>04</td>\n",
       "      <td>AZ</td>\n",
       "      <td>Arizona</td>\n",
       "      <td>00</td>\n",
       "      <td>G4000</td>\n",
       "      <td>A</td>\n",
       "      <td>294365853885</td>\n",
       "      <td>853990728</td>\n",
       "      <td>+34.2039362</td>\n",
       "      <td>-111.6063449</td>\n",
       "      <td>POLYGON ((-110.75069 37.00301, -110.74193 37.0...</td>\n",
       "    </tr>\n",
       "  </tbody>\n",
       "</table>\n",
       "</div>"
      ],
      "text/plain": [
       "   region division statefp   statens geoid stusps                  name lsad  \\\n",
       "51      1        1      25  00606926    25     MA         Massachusetts   00   \n",
       "52      3        5      51  01779803    51     VA              Virginia   00   \n",
       "53      3        5      11  01702382    11     DC  District of Columbia   00   \n",
       "54      2        4      19  01779785    19     IA                  Iowa   00   \n",
       "55      4        8      04  01779777    04     AZ               Arizona   00   \n",
       "\n",
       "    mtfcc funcstat         aland      awater     intptlat      intptlon  \\\n",
       "51  G4000        A   20204341720  7130708927  +42.1565196  -071.4895915   \n",
       "52  G4000        A  102258178227  8528072639  +37.5222512  -078.6681938   \n",
       "53  G4000        A     158316184    18709787  +38.9042474  -077.0165167   \n",
       "54  G4000        A  144659596400  1086089872  +42.0700243  -093.4933473   \n",
       "55  G4000        A  294365853885   853990728  +34.2039362  -111.6063449   \n",
       "\n",
       "                                             geometry  \n",
       "51  POLYGON ((-71.25515 42.73655, -71.25510 42.736...  \n",
       "52  POLYGON ((-76.49150 36.55065, -76.49388 36.550...  \n",
       "53  POLYGON ((-77.11975 38.93435, -77.11886 38.935...  \n",
       "54  POLYGON ((-95.86095 43.50004, -95.85979 43.500...  \n",
       "55  POLYGON ((-110.75069 37.00301, -110.74193 37.0...  "
      ]
     },
     "execution_count": 33,
     "metadata": {},
     "output_type": "execute_result"
    }
   ],
   "source": [
    "states.tail()"
   ]
  },
  {
   "cell_type": "code",
   "execution_count": 34,
   "id": "ad239eb9",
   "metadata": {},
   "outputs": [
    {
     "name": "stdout",
     "output_type": "stream",
     "text": [
      "EPSG:4269\n"
     ]
    }
   ],
   "source": [
    "print(states.crs)\n"
   ]
  },
  {
   "cell_type": "code",
   "execution_count": 35,
   "id": "6e6ee6c6",
   "metadata": {},
   "outputs": [
    {
     "data": {
      "text/plain": [
       "<Axes: >"
      ]
     },
     "execution_count": 35,
     "metadata": {},
     "output_type": "execute_result"
    },
    {
     "data": {
      "image/png": "[encoded data removed]",
      "text/plain": [
       "<Figure size 640x480 with 1 Axes>"
      ]
     },
     "metadata": {},
     "output_type": "display_data"
    }
   ],
   "source": [
    "\n",
    "states.plot()"
   ]
  },
  {
   "cell_type": "markdown",
   "id": "90e7a7c8",
   "metadata": {},
   "source": [
    "## `for` loops\n",
    "It can be easier to work with the codes as numbers instead of strings, so let’s update the corresponding columns in the states geo-dataframe. We start by checking the data type of the `region`, `division`, and `statefp` columns:"
   ]
  },
  {
   "cell_type": "code",
   "execution_count": 38,
   "id": "1ed7a5fa",
   "metadata": {},
   "outputs": [
    {
     "name": "stdout",
     "output_type": "stream",
     "text": [
      "Region is string dtype? True\n",
      "Division is string dtype? True\n",
      "Statefp is string dtype? True\n"
     ]
    }
   ],
   "source": [
    "# Examine if the region, devision, and statefp columns are string or numeric\n",
    "print(f\"Region is string dtype? {is_string_dtype(states['region'])}\")\n",
    "print(f\"Division is string dtype? {is_string_dtype(states['division'])}\")\n",
    "print(f\"Statefp is string dtype? {is_string_dtype(states['statefp'])}\")"
   ]
  },
  {
   "cell_type": "markdown",
   "id": "a269c7f2",
   "metadata": {},
   "source": [
    "This is inconvenient as it repeats the same pieces of code, only changing the column name. Instead, using the for loop allows us to succintly print the same information:"
   ]
  },
  {
   "cell_type": "code",
   "execution_count": 39,
   "id": "de68c7f5",
   "metadata": {},
   "outputs": [
    {
     "name": "stdout",
     "output_type": "stream",
     "text": [
      "region is string dtype? True\n",
      "division is string dtype? True\n",
      "statefp is string dtype? True\n"
     ]
    }
   ],
   "source": [
    "code_cols = ['region', 'division', 'statefp']\n",
    "\n",
    "for column in code_cols:\n",
    "    print(f\"{column} is string dtype? {is_string_dtype(states[column])}\")"
   ]
  },
  {
   "cell_type": "markdown",
   "id": "e5f92c68",
   "metadata": {},
   "source": [
    "***DRY Code***\n",
    "\n",
    "\n",
    "Don’t Repeat Yourself (DRY)-\n",
    "A core programming principle that encourages reducing redundancy and consolidating repeated logic. Try implementing it as much as possible! If you need to repeat the “same” code more than twice, you likely need a for loop.\n",
    "\n",
    "## Assert\n",
    "\n",
    "The `assert` keyword does nothing if the expression next to it evaluates to True and raises an AssertionError exception and stops your code form running any further if not. \n",
    "\n",
    "For example:\n",
    "\n"
   ]
  },
  {
   "cell_type": "code",
   "execution_count": 44,
   "id": "ae67d232",
   "metadata": {},
   "outputs": [
    {
     "ename": "AssertionError",
     "evalue": "",
     "output_type": "error",
     "traceback": [
      "\u001b[31m---------------------------------------------------------------------------\u001b[39m",
      "\u001b[31mAssertionError\u001b[39m                            Traceback (most recent call last)",
      "\u001b[36mCell\u001b[39m\u001b[36m \u001b[39m\u001b[32mIn[44]\u001b[39m\u001b[32m, line 6\u001b[39m\n\u001b[32m      2\u001b[39m \u001b[38;5;28;01massert\u001b[39;00m \u001b[32m2\u001b[39m+\u001b[32m2\u001b[39m==\u001b[32m4\u001b[39m\n\u001b[32m      4\u001b[39m \u001b[38;5;66;03m# raise an error is statement is False\u001b[39;00m\n\u001b[32m----> \u001b[39m\u001b[32m6\u001b[39m \u001b[38;5;28;01massert\u001b[39;00m \u001b[32m2\u001b[39m+\u001b[32m2\u001b[39m==\u001b[32m5\u001b[39m\n",
      "\u001b[31mAssertionError\u001b[39m: "
     ]
    }
   ],
   "source": [
    "# Does nothing if statement is True\n",
    "assert 2+2==4\n",
    "\n",
    "# raise an error is statement is False\n",
    "\n",
    "assert 2+2==5"
   ]
  },
  {
   "cell_type": "markdown",
   "id": "944eb301",
   "metadata": {},
   "source": [
    "A workflow for updating the data type for code colums to be integers\n",
    "\n",
    "for each column in code_column:\n",
    "    - convert column to numeric\n",
    "    - check if column is numeric using assert"
   ]
  },
  {
   "cell_type": "code",
   "execution_count": 47,
   "id": "a2954e19",
   "metadata": {},
   "outputs": [],
   "source": [
    "# Update code columns into integers\n",
    "\n",
    "# Update code columns into integers\n",
    "for column in code_cols:\n",
    "    states[column] = states[column].astype('int')\n",
    "    assert is_numeric_dtype(states[column])  # Check conversion"
   ]
  },
  {
   "cell_type": "code",
   "execution_count": 48,
   "id": "e0a283b0",
   "metadata": {},
   "outputs": [
    {
     "data": {
      "text/plain": [
       "region         int64\n",
       "division       int64\n",
       "statefp        int64\n",
       "statens       object\n",
       "geoid         object\n",
       "stusps        object\n",
       "name          object\n",
       "lsad          object\n",
       "mtfcc         object\n",
       "funcstat      object\n",
       "aland          int64\n",
       "awater         int64\n",
       "intptlat      object\n",
       "intptlon      object\n",
       "geometry    geometry\n",
       "dtype: object"
      ]
     },
     "execution_count": 48,
     "metadata": {},
     "output_type": "execute_result"
    }
   ],
   "source": [
    "states.dtypes"
   ]
  },
  {
   "cell_type": "code",
   "execution_count": null,
   "id": "24f57dd5",
   "metadata": {},
   "outputs": [],
   "source": []
  }
 ],
 "metadata": {
  "kernelspec": {
   "display_name": "EDS-220 env",
   "language": "python",
   "name": "eds220-env"
  },
  "language_info": {
   "codemirror_mode": {
    "name": "ipython",
    "version": 3
   },
   "file_extension": ".py",
   "mimetype": "text/x-python",
   "name": "python",
   "nbconvert_exporter": "python",
   "pygments_lexer": "ipython3",
   "version": "3.11.4"
  }
 },
 "nbformat": 4,
 "nbformat_minor": 5
}
