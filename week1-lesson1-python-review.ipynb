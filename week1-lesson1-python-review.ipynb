{
 "cells": [
  {
   "cell_type": "markdown",
   "id": "0bdc90a4-252d-496f-b88e-c69b08cdef4a",
   "metadata": {},
   "source": [
    "# Python Review\n",
    "\n",
    "Goals: \n",
    "- recall basic python vocab\n",
    "- practice markdown\n",
    "\n",
    "## Libraries and packages\n",
    "\n",
    "**library**: a collection of code that we can use to perform specific tasks in our program\n",
    "\n",
    "**NumPy**:\n",
    "- core library for numerical computing in Python\n",
    "- many other libraries use NumPy arrays as building blocks\n",
    "- computations on NumPy are optiomized for speed and memory usage\n",
    "\n",
    "Let's import NumPy with **standard abbreviation**"
   ]
  },
  {
   "cell_type": "code",
   "execution_count": 1,
   "id": "383dc43c-24d7-4a0f-9d16-baee1960c521",
   "metadata": {
    "tags": []
   },
   "outputs": [],
   "source": [
    "import numpy as np"
   ]
  },
  {
   "cell_type": "markdown",
   "id": "d7963902-b1ca-402d-9d18-614b84f312d5",
   "metadata": {},
   "source": [
    "## Varibles\n",
    "\n",
    "**variable** a name we assign to a particular object in Python\n",
    "\n",
    "Example:"
   ]
  },
  {
   "cell_type": "code",
   "execution_count": 3,
   "id": "56397123-a93f-42b5-9cf4-cf7332a3f98a",
   "metadata": {
    "tags": []
   },
   "outputs": [
    {
     "name": "stdout",
     "output_type": "stream",
     "text": [
      "[[1 1 2]\n",
      " [3 5 8]]\n"
     ]
    }
   ],
   "source": [
    "# Assign a small array to a variable\n",
    "\n",
    "a = np.array([[1,1,2],[3,5,8]])"
   ]
  },
  {
   "cell_type": "code",
   "execution_count": 4,
   "id": "469094b7-6b20-4bdd-af5b-6477bdda3786",
   "metadata": {
    "tags": []
   },
   "outputs": [
    {
     "data": {
      "text/plain": [
       "array([[1, 1, 2],\n",
       "       [3, 5, 8]])"
      ]
     },
     "execution_count": 4,
     "metadata": {},
     "output_type": "execute_result"
    }
   ],
   "source": [
    "# Run the cell with a variable name to show value\n",
    "a"
   ]
  },
  {
   "cell_type": "code",
   "execution_count": 5,
   "id": "8e60143a-71e4-46fc-86f4-d1cc56f598c2",
   "metadata": {
    "tags": []
   },
   "outputs": [
    {
     "name": "stdout",
     "output_type": "stream",
     "text": [
      "[[1 1 2]\n",
      " [3 5 8]]\n"
     ]
    }
   ],
   "source": [
    "# Use `print` function to print the value\n",
    "print(a)"
   ]
  },
  {
   "cell_type": "markdown",
   "id": "3821576e-1529-42c0-9154-b4b1aa99bb6c",
   "metadata": {},
   "source": [
    "## Objects\n",
    "\n",
    "**object** is a bundle of *properties* and *actions* about something specific.\n",
    "\n",
    "Example:\n",
    "\n",
    "Object: data frame\n",
    "\n",
    "Properties: number rows, names of the columns, date created\n",
    "\n",
    "Action: selecting a specific row, adding a new column\n",
    "\n",
    "A variable is the name we give a specific object, and the same object can be referenced by different variables\n",
    "\n",
    "In practice, we can often use variable and object interchangeably."
   ]
  }
 ],
 "metadata": {
  "kernelspec": {
   "display_name": "EDS220",
   "language": "python",
   "name": "eds220-env"
  },
  "language_info": {
   "codemirror_mode": {
    "name": "ipython",
    "version": 3
   },
   "file_extension": ".py",
   "mimetype": "text/x-python",
   "name": "python",
   "nbconvert_exporter": "python",
   "pygments_lexer": "ipython3",
   "version": "3.11.4"
  }
 },
 "nbformat": 4,
 "nbformat_minor": 5
}
